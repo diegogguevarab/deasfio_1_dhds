{
  "nbformat": 4,
  "nbformat_minor": 0,
  "metadata": {
    "colab": {
      "name": "Untitled1.ipynb",
      "provenance": [],
      "authorship_tag": "ABX9TyNi8Z+N0rC7kcWwOvBjsJbV"
    },
    "kernelspec": {
      "name": "python3",
      "display_name": "Python 3"
    },
    "language_info": {
      "name": "python"
    }
  },
  "cells": [
    {
      "cell_type": "markdown",
      "metadata": {
        "id": "H1g8avrTNC5G"
      },
      "source": [
        "# Desafío 1 - Grupo 5\n"
      ]
    }
  ]
}